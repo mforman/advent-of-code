{
 "cells": [
  {
   "cell_type": "code",
   "execution_count": 46,
   "metadata": {},
   "outputs": [
    {
     "name": "stdout",
     "output_type": "stream",
     "text": [
      "Part 1: 588\n",
      "Part 2: 911\n"
     ]
    }
   ],
   "source": [
    "from aocd import get_data\n",
    "\n",
    "def expand(s):\n",
    "    a,b = map(int, s.split(\"-\"))\n",
    "    return set(range(a, b+1))\n",
    "\n",
    "def chunk(lst, n):\n",
    "    return (lst[i:i + n] for i in range(0, len(lst), n))\n",
    "\n",
    "def is_subset(a:set, b:set) -> bool:\n",
    "    return a.issubset(b) or b.issubset(a)\n",
    "    \n",
    "def is_overlapping(a:set, b:set) -> bool:\n",
    "    return len(a.intersection(b)) != 0\n",
    "\n",
    "\n",
    "assert(expand(\"2-4\")=={2,3,4})\n",
    "assert(is_subset({1,2,3}, {1,2,3,4}))\n",
    "assert(is_subset({1,2}, {3,4}) == False)\n",
    "\n",
    "# input = \"\"\"2-4,6-8\n",
    "# 2-3,4-5\n",
    "# 5-7,7-9\n",
    "# 2-8,3-7\n",
    "# 6-6,4-6\n",
    "# 2-6,4-8\"\"\"\n",
    "\n",
    "input = get_data(day=4, year=2022)\n",
    "\n",
    "items = [x.split(',') for x in input.splitlines()]\n",
    "flat_list = [expand(item) for sublist in items for item in sublist]\n",
    "chunks = list(chunk(flat_list, 2))\n",
    "\n",
    "matches = [chunk for chunk in chunks if is_subset(chunk[0], chunk[1])]\n",
    "overlaps = [chunk for chunk in chunks if is_overlapping(chunk[0], chunk[1])]\n",
    "\n",
    "print(f\"Part 1: {len(matches)}\")\n",
    "print(f\"Part 2: {len(overlaps)}\")\n"
   ]
  }
 ],
 "metadata": {
  "kernelspec": {
   "display_name": "Python 3.8.2 ('2022-0lmUvimd-py3.8')",
   "language": "python",
   "name": "python3"
  },
  "language_info": {
   "codemirror_mode": {
    "name": "ipython",
    "version": 3
   },
   "file_extension": ".py",
   "mimetype": "text/x-python",
   "name": "python",
   "nbconvert_exporter": "python",
   "pygments_lexer": "ipython3",
   "version": "3.8.2"
  },
  "orig_nbformat": 4,
  "vscode": {
   "interpreter": {
    "hash": "6e154cab0edc7602ecb03baffb14d7a77121a58afcfdf85217648cacf4701349"
   }
  }
 },
 "nbformat": 4,
 "nbformat_minor": 2
}
