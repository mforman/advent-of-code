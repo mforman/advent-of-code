{
 "cells": [
  {
   "cell_type": "code",
   "execution_count": 50,
   "metadata": {},
   "outputs": [
    {
     "name": "stdout",
     "output_type": "stream",
     "text": [
      "Part 1 : 7826\n",
      "Part 2 : 2577\n"
     ]
    }
   ],
   "source": [
    "from aocd import get_data\n",
    "\n",
    "def split_list(x):\n",
    "    mid = len(x) // 2\n",
    "    return [x[:mid], x[mid:]]\n",
    "\n",
    "\n",
    "def get_intersect(x):\n",
    "    return set.intersection(*map(set, x)).pop()\n",
    "    \n",
    "\n",
    "def priority(c):\n",
    "    i = ord(c)\n",
    "    if 65 <= i <= 90:\n",
    "        return i - 38\n",
    "    elif 97 <= i <= 122:\n",
    "        return i - 96\n",
    "    else:\n",
    "        return i\n",
    "\n",
    "def chunk(lst, n):\n",
    "    return (lst[i:i + n] for i in range(0, len(lst), n))\n",
    "\n",
    "\n",
    "assert(priority('a') == 1)\n",
    "assert(priority('L') == 38)\n",
    "assert(priority('A') == 27)\n",
    "\n",
    "input = get_data(day=3, year=2022)\n",
    "\n",
    "items = input.splitlines()\n",
    "\n",
    "parts = [get_intersect(split_list(x)) for x in items]\n",
    "priorities = [priority(x) for x in parts]\n",
    "print(f\"Part 1 : {sum(priorities)}\")\n",
    "\n",
    "chunks = chunk(input.splitlines(), 3)\n",
    "badges = [get_intersect(x) for x in chunks]\n",
    "part2 = sum([priority(x) for x in badges])\n",
    "\n",
    "print(f\"Part 2 : {part2}\")\n"
   ]
  },
  {
   "cell_type": "code",
   "execution_count": null,
   "metadata": {},
   "outputs": [],
   "source": []
  }
 ],
 "metadata": {
  "kernelspec": {
   "display_name": "Python 3.8.2 ('2022-0lmUvimd-py3.8')",
   "language": "python",
   "name": "python3"
  },
  "language_info": {
   "codemirror_mode": {
    "name": "ipython",
    "version": 3
   },
   "file_extension": ".py",
   "mimetype": "text/x-python",
   "name": "python",
   "nbconvert_exporter": "python",
   "pygments_lexer": "ipython3",
   "version": "3.8.2"
  },
  "orig_nbformat": 4,
  "vscode": {
   "interpreter": {
    "hash": "6e154cab0edc7602ecb03baffb14d7a77121a58afcfdf85217648cacf4701349"
   }
  }
 },
 "nbformat": 4,
 "nbformat_minor": 2
}
