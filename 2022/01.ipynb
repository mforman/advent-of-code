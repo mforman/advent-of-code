{
 "cells": [
  {
   "cell_type": "code",
   "execution_count": 19,
   "metadata": {},
   "outputs": [],
   "source": [
    "def formatInput(item: str):\n",
    "    return [int(x) for x in item.splitlines()]\n",
    "    \n",
    "\n",
    "v = '4887\\n9307\\n8895\\n8136\\n6292\\n10177\\n4077\\n8228'\n",
    "\n",
    "assert(formatInput(v) == \n",
    "[4887, 9307, 8895, 8136, 6292, 10177, 4077, 8228])\n",
    "\n"
   ]
  },
  {
   "cell_type": "code",
   "execution_count": 59,
   "metadata": {},
   "outputs": [
    {
     "name": "stdout",
     "output_type": "stream",
     "text": [
      "Part 1: 68802\n",
      "Part 2: 205370\n"
     ]
    }
   ],
   "source": [
    "from aocd import get_data\n",
    "\n",
    "input = get_data(day=1, year=2022)\n",
    "\n",
    "items = [formatInput(x) for x in input.split(\"\\n\\n\")]\n",
    "\n",
    "sums = [sum(x) for x in items]\n",
    "sums.sort(reverse=True)\n",
    "\n",
    "part1 = sums[0]\n",
    "part2 = sum(sums[:3])\n",
    "\n",
    "print(f\"Part 1: {part1}\")\n",
    "print(f\"Part 2: {part2}\")\n"
   ]
  }
 ],
 "metadata": {
  "kernelspec": {
   "display_name": "Python 3.8.2 ('2022-0lmUvimd-py3.8')",
   "language": "python",
   "name": "python3"
  },
  "language_info": {
   "codemirror_mode": {
    "name": "ipython",
    "version": 3
   },
   "file_extension": ".py",
   "mimetype": "text/x-python",
   "name": "python",
   "nbconvert_exporter": "python",
   "pygments_lexer": "ipython3",
   "version": "3.8.2"
  },
  "orig_nbformat": 4,
  "vscode": {
   "interpreter": {
    "hash": "6e154cab0edc7602ecb03baffb14d7a77121a58afcfdf85217648cacf4701349"
   }
  }
 },
 "nbformat": 4,
 "nbformat_minor": 2
}
