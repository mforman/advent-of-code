{
 "cells": [
  {
   "cell_type": "code",
   "execution_count": 19,
   "metadata": {},
   "outputs": [
    {
     "ename": "AttributeError",
     "evalue": "'list' object has no attribute 'split'",
     "output_type": "error",
     "traceback": [
      "\u001b[0;31m---------------------------------------------------------------------------\u001b[0m",
      "\u001b[0;31mAttributeError\u001b[0m                            Traceback (most recent call last)",
      "Cell \u001b[0;32mIn[19], line 5\u001b[0m\n\u001b[1;32m      3\u001b[0m \u001b[39minput\u001b[39m \u001b[39m=\u001b[39m get_data(day\u001b[39m=\u001b[39m\u001b[39m1\u001b[39m, year\u001b[39m=\u001b[39m\u001b[39m2022\u001b[39m)\n\u001b[1;32m      4\u001b[0m lines \u001b[39m=\u001b[39m \u001b[39minput\u001b[39m\u001b[39m.\u001b[39msplitlines()\n\u001b[0;32m----> 5\u001b[0m lines\u001b[39m.\u001b[39;49msplit(\u001b[39m\"\u001b[39m\u001b[39m\"\u001b[39m)\n",
      "\u001b[0;31mAttributeError\u001b[0m: 'list' object has no attribute 'split'"
     ]
    }
   ],
   "source": [
    "from aocd import get_data\n",
    "\n",
    "input = get_data(day=1, year=2022)\n",
    "lines = input.splitlines()\n"
   ]
  }
 ],
 "metadata": {
  "kernelspec": {
   "display_name": "Python 3.10.2 ('2022-sCFMoN8Y-py3.10')",
   "language": "python",
   "name": "python3"
  },
  "language_info": {
   "codemirror_mode": {
    "name": "ipython",
    "version": 3
   },
   "file_extension": ".py",
   "mimetype": "text/x-python",
   "name": "python",
   "nbconvert_exporter": "python",
   "pygments_lexer": "ipython3",
   "version": "3.10.2"
  },
  "orig_nbformat": 4,
  "vscode": {
   "interpreter": {
    "hash": "6c0e64917c2fc6a86c99c543b909a462305a00d4331f77fab8c60c200554bb98"
   }
  }
 },
 "nbformat": 4,
 "nbformat_minor": 2
}
