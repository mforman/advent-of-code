{
 "cells": [
  {
   "cell_type": "code",
   "execution_count": 9,
   "metadata": {},
   "outputs": [
    {
     "name": "stdout",
     "output_type": "stream",
     "text": [
      "Part 1: 1287\n",
      "Part 1: 3716\n"
     ]
    }
   ],
   "source": [
    "from aocd import get_data\n",
    "\n",
    "def window(arr, k):\n",
    "    for i in range(len(arr)-k+1):\n",
    "        yield arr[i:i+k]\n",
    "\n",
    "def getMarker(s, windowSize=4):\n",
    "    i = 0\n",
    "    for i,v in enumerate(window(s, windowSize)):\n",
    "        if len(set(v)) == windowSize:\n",
    "            break\n",
    "    return i+windowSize\n",
    "\n",
    "assert(getMarker(\"mjqjpqmgbljsphdztnvjfqwrcgsmlb\")==7)\n",
    "assert(getMarker(\"bvwbjplbgvbhsrlpgdmjqwftvncz\")==5)\n",
    "assert(getMarker(\"nppdvjthqldpwncqszvftbrmjlhg\")==6)\n",
    "assert(getMarker(\"nznrnfrfntjfmvfwmzdfjlvtqnbhcprsg\")==10)\n",
    "assert(getMarker(\"zcfzfwzzqfrljwzlrfnpqdbhtmscgvjw\")==11)\n",
    "\n",
    "input = get_data(day=6, year=2022)\n",
    "\n",
    "print(f\"Part 1: {getMarker(input)}\")\n",
    "print(f\"Part 1: {getMarker(input, 14)}\")\n"
   ]
  }
 ],
 "metadata": {
  "kernelspec": {
   "display_name": "Python 3.8.2 ('2022-0lmUvimd-py3.8')",
   "language": "python",
   "name": "python3"
  },
  "language_info": {
   "codemirror_mode": {
    "name": "ipython",
    "version": 3
   },
   "file_extension": ".py",
   "mimetype": "text/x-python",
   "name": "python",
   "nbconvert_exporter": "python",
   "pygments_lexer": "ipython3",
   "version": "3.8.2"
  },
  "orig_nbformat": 4,
  "vscode": {
   "interpreter": {
    "hash": "6e154cab0edc7602ecb03baffb14d7a77121a58afcfdf85217648cacf4701349"
   }
  }
 },
 "nbformat": 4,
 "nbformat_minor": 2
}
