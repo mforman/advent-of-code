{
 "cells": [
  {
   "cell_type": "code",
   "execution_count": 15,
   "metadata": {},
   "outputs": [
    {
     "name": "stdout",
     "output_type": "stream",
     "text": [
      "Part 1: 1454188\n",
      "Part 2: 4183246\n"
     ]
    }
   ],
   "source": [
    "from aocd import get_data\n",
    "from collections import defaultdict\n",
    "from itertools import accumulate\n",
    "\n",
    "input =\"\"\"$ cd /\n",
    "$ ls\n",
    "dir a\n",
    "14848514 b.txt\n",
    "8504156 c.dat\n",
    "dir d\n",
    "$ cd a\n",
    "$ ls\n",
    "dir e\n",
    "29116 f\n",
    "2557 g\n",
    "62596 h.lst\n",
    "$ cd e\n",
    "$ ls\n",
    "584 i\n",
    "$ cd ..\n",
    "$ cd ..\n",
    "$ cd d\n",
    "$ ls\n",
    "4060174 j\n",
    "8033020 d.log\n",
    "5626152 d.ext\n",
    "7214296 k\"\"\"\n",
    "\n",
    "input = get_data(day=7, year=2022)\n",
    "\n",
    "lines = input.splitlines()\n",
    "\n",
    "stack = []\n",
    "dirs = defaultdict(int)\n",
    "\n",
    "for line in lines:\n",
    "    match line.split():\n",
    "        case '$', 'cd', '/': stack = ['/']\n",
    "        case '$', 'cd', '..': stack.pop()\n",
    "        case '$', 'cd', x: stack.append(x+'/')\n",
    "        case '$', 'ls': pass\n",
    "        case 'dir', _: pass\n",
    "        case size, _:\n",
    "            for d in accumulate(stack):\n",
    "                dirs[d] += int(size)\n",
    "\n",
    "print(f\"Part 1: {sum(d for d in dirs.values() if d <= 100_000)}\")\n",
    "print(f\"Part 2: {min(d for d in dirs.values() if d >= dirs['/'] - 40_000_000)}\")\n"
   ]
  }
 ],
 "metadata": {
  "kernelspec": {
   "display_name": "2022-0lmUvimd-py3.11",
   "language": "python",
   "name": "python3"
  },
  "language_info": {
   "codemirror_mode": {
    "name": "ipython",
    "version": 3
   },
   "file_extension": ".py",
   "mimetype": "text/x-python",
   "name": "python",
   "nbconvert_exporter": "python",
   "pygments_lexer": "ipython3",
   "version": "3.11.0"
  },
  "orig_nbformat": 4,
  "vscode": {
   "interpreter": {
    "hash": "51f76ca33e117f21789bee24c0a33062aab69fd1b8327e45ab39ad952e0cd1a1"
   }
  }
 },
 "nbformat": 4,
 "nbformat_minor": 2
}
