{
 "cells": [
  {
   "cell_type": "code",
   "execution_count": 16,
   "metadata": {},
   "outputs": [
    {
     "name": "stdout",
     "output_type": "stream",
     "text": [
      "Part 1: 11906\n",
      "Part 2: 11186\n"
     ]
    }
   ],
   "source": [
    "from aocd import get_data\n",
    "\n",
    "# A, X - Rock\n",
    "# B, Y - Paper\n",
    "# C, Z - Scissors\n",
    "tablePart1 = {\n",
    "    ('A','X'): 1 + 3,\n",
    "    ('A','Y'): 2 + 6, \n",
    "    ('A','Z'): 3 + 0,\n",
    "\n",
    "    ('B','X'): 1 + 0,\n",
    "    ('B','Y'): 2 + 3, \n",
    "    ('B','Z'): 3 + 6,\n",
    "    \n",
    "    ('C','X'): 1 + 6,\n",
    "    ('C','Y'): 2 + 0, \n",
    "    ('C','Z'): 3 + 3,\n",
    "}\n",
    "\n",
    "# A - Rock\n",
    "# B - Paper\n",
    "# C - Scissors\n",
    "# X - lose\n",
    "# Y - draw\n",
    "# Z - win\n",
    "tablePart2 = {\n",
    "    ('A','X'): 3 + 0, # scissor\n",
    "    ('A','Y'): 1 + 3, # rock\n",
    "    ('A','Z'): 2 + 6, # paper\n",
    "\n",
    "    ('B','X'): 1 + 0, # rock\n",
    "    ('B','Y'): 2 + 3, # paper \n",
    "    ('B','Z'): 3 + 6, # scissor\n",
    "    \n",
    "    ('C','X'): 2 + 0, # paper\n",
    "    ('C','Y'): 3 + 3, # scissor\n",
    "    ('C','Z'): 1 + 6, # rock\n",
    "} \n",
    "\n",
    "#input =\"A Y\\nB X\\nC Z\"\n",
    "input = get_data(day=2, year=2022)\n",
    "moves = [tuple(x.split(\" \")) for x in input.splitlines()]\n",
    "scoresPart1 = [tablePart1.get(x) for x in moves]\n",
    "scoresPart2 = [tablePart2.get(x) for x in moves]\n",
    "\n",
    "print(f\"Part 1: {sum(scoresPart1)}\")\n",
    "print(f\"Part 2: {sum(scoresPart2)}\")"
   ]
  }
 ],
 "metadata": {
  "kernelspec": {
   "display_name": "Python 3.8.2 ('2022-0lmUvimd-py3.8')",
   "language": "python",
   "name": "python3"
  },
  "language_info": {
   "codemirror_mode": {
    "name": "ipython",
    "version": 3
   },
   "file_extension": ".py",
   "mimetype": "text/x-python",
   "name": "python",
   "nbconvert_exporter": "python",
   "pygments_lexer": "ipython3",
   "version": "3.8.2"
  },
  "orig_nbformat": 4,
  "vscode": {
   "interpreter": {
    "hash": "6e154cab0edc7602ecb03baffb14d7a77121a58afcfdf85217648cacf4701349"
   }
  }
 },
 "nbformat": 4,
 "nbformat_minor": 2
}
