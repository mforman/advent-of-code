{
 "cells": [
  {
   "cell_type": "code",
   "execution_count": 16,
   "metadata": {},
   "outputs": [],
   "source": [
    "from itertools import chain, groupby, product\n",
    "\n",
    "input = [row.strip() for row in open(\"11.txt\").readlines()]\n",
    "grid = [[int(i) for i in r] for r in input]\n",
    "\n",
    "moves = [x for x in (product(range(-1, 2), repeat=2)) if x != (0,0)]\n",
    "coords = list(product(range(len(grid)), range(len(grid[0]))))\n",
    "\n",
    "def adjacent(p): \n",
    "    r,c = p\n",
    "    mx = len(grid[0])\n",
    "    my = len(grid)\n",
    "    return [(r+x,c+y) for x,y in moves if (mx > (r+x) >= 0) and (my > (c+y) >= 0)]\n",
    "\n",
    "def step(grid):\n",
    "    a = [[i + 1 for i in r] for r in grid]\n",
    "    visited = set()\n",
    "    stack = [(r,c) for (r,c) in coords if a[r][c] > 9]\n",
    "    while stack:\n",
    "        p = stack.pop()\n",
    "        if p in visited:\n",
    "            continue\n",
    "        visited.add(p)\n",
    "        for (r,c) in adjacent(p):\n",
    "            a[r][c] += 1\n",
    "            if (a[r][c] > 9):\n",
    "                stack.append((r,c))\n",
    "    for (r,c) in visited:\n",
    "        a[r][c] = 0\n",
    "    return (a, len(visited))\n"
   ]
  },
  {
   "cell_type": "markdown",
   "metadata": {},
   "source": [
    "Part 1"
   ]
  },
  {
   "cell_type": "code",
   "execution_count": 17,
   "metadata": {},
   "outputs": [
    {
     "data": {
      "text/plain": [
       "1652"
      ]
     },
     "execution_count": 17,
     "metadata": {},
     "output_type": "execute_result"
    }
   ],
   "source": [
    "grid = [[int(i) for i in r] for r in input]\n",
    "part1 = 0\n",
    "for _ in range(100):\n",
    "    g, c = step(grid)\n",
    "    part1 += c\n",
    "    grid = g\n",
    "\n",
    "part1"
   ]
  },
  {
   "cell_type": "markdown",
   "metadata": {},
   "source": [
    "Part 2"
   ]
  },
  {
   "cell_type": "code",
   "execution_count": null,
   "metadata": {},
   "outputs": [
    {
     "data": {
      "text/plain": [
       "220"
      ]
     },
     "execution_count": 18,
     "metadata": {},
     "output_type": "execute_result"
    }
   ],
   "source": [
    "grid = [[int(i) for i in r] for r in input]\n",
    "part2 = 0\n",
    "while True:\n",
    "    if sum(chain(*grid)) == 0:\n",
    "        break\n",
    "    grid, _ = step(grid)\n",
    "    part2 += 1\n",
    "\n",
    "part2"
   ]
  }
 ],
 "metadata": {
  "interpreter": {
   "hash": "7296e98c4581e7670d179680b35eb2237c7163b9d10d001b2ef77a5c0eea7629"
  },
  "kernelspec": {
   "display_name": "Python 3.9.7 64-bit ('advent-of-code-xRHDKbyC-py3.9': venv)",
   "language": "python",
   "name": "python3"
  },
  "language_info": {
   "codemirror_mode": {
    "name": "ipython",
    "version": 3
   },
   "file_extension": ".py",
   "mimetype": "text/x-python",
   "name": "python",
   "nbconvert_exporter": "python",
   "pygments_lexer": "ipython3",
   "version": "3.9.7"
  },
  "orig_nbformat": 4
 },
 "nbformat": 4,
 "nbformat_minor": 2
}
